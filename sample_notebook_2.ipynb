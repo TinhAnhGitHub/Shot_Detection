{
 "cells": [
  {
   "cell_type": "code",
   "execution_count": 1,
   "metadata": {},
   "outputs": [],
   "source": [
    "from process_video import VideoProcessor\n",
    "from io_setup import setup_video_path"
   ]
  },
  {
   "cell_type": "code",
   "execution_count": 2,
   "metadata": {},
   "outputs": [],
   "source": [
    "####### SETTING ########\n",
    "pretrained_model_weights_path = \"./AutoShot/model_weight/ckpt_0_200_0.pth\"\n",
    "keyframe_output_dir = \"./output_sample\""
   ]
  },
  {
   "cell_type": "code",
   "execution_count": 3,
   "metadata": {},
   "outputs": [
    {
     "data": {
      "text/plain": [
       "{'ads_game_vid_sample_1': {'video': {'51853832643': './input_sample\\\\ads_game_vid_sample_1\\\\video\\\\51853832643.mp4',\n",
       "   '51853848543': './input_sample\\\\ads_game_vid_sample_1\\\\video\\\\51853848543.mp4',\n",
       "   '51856514703': './input_sample\\\\ads_game_vid_sample_1\\\\video\\\\51856514703.mp4',\n",
       "   '51863405337': './input_sample\\\\ads_game_vid_sample_1\\\\video\\\\51863405337.mp4',\n",
       "   '51864484769': './input_sample\\\\ads_game_vid_sample_1\\\\video\\\\51864484769.mp4'}},\n",
       " 'ads_game_vid_sample_2': {'video': {'52655310968': './input_sample\\\\ads_game_vid_sample_2\\\\video\\\\52655310968.mp4',\n",
       "   '52659068467': './input_sample\\\\ads_game_vid_sample_2\\\\video\\\\52659068467.mp4',\n",
       "   '52660362549': './input_sample\\\\ads_game_vid_sample_2\\\\video\\\\52660362549.mp4',\n",
       "   '52660780872': './input_sample\\\\ads_game_vid_sample_2\\\\video\\\\52660780872.mp4',\n",
       "   '52661586331': './input_sample\\\\ads_game_vid_sample_2\\\\video\\\\52661586331.mp4',\n",
       "   '52663756053': './input_sample\\\\ads_game_vid_sample_2\\\\video\\\\52663756053.mp4'}},\n",
       " 'ads_game_vid_sample_3': {'video': {'52484229807': './input_sample\\\\ads_game_vid_sample_3\\\\video\\\\52484229807.mp4',\n",
       "   '52484297060': './input_sample\\\\ads_game_vid_sample_3\\\\video\\\\52484297060.mp4',\n",
       "   '52491346857': './input_sample\\\\ads_game_vid_sample_3\\\\video\\\\52491346857.mp4',\n",
       "   '52522495770': './input_sample\\\\ads_game_vid_sample_3\\\\video\\\\52522495770.mp4',\n",
       "   '52522500717': './input_sample\\\\ads_game_vid_sample_3\\\\video\\\\52522500717.mp4',\n",
       "   '52526356293': './input_sample\\\\ads_game_vid_sample_3\\\\video\\\\52526356293.mp4'}}}"
      ]
     },
     "execution_count": 3,
     "metadata": {},
     "output_type": "execute_result"
    }
   ],
   "source": [
    "input_dir = \"./input_sample\"\n",
    "all_video_paths = setup_video_path(\"./input_sample\")\n",
    "all_video_paths"
   ]
  },
  {
   "cell_type": "code",
   "execution_count": 4,
   "metadata": {},
   "outputs": [
    {
     "name": "stdout",
     "output_type": "stream",
     "text": [
      "Loading the pretrained model from ./AutoShot/model_weight/ckpt_0_200_0.pth\n",
      "Current model has 90 params, Updating 90 params\n"
     ]
    }
   ],
   "source": [
    "video_processor = VideoProcessor(\n",
    "    pretrained_model_weights_path,\n",
    "    keyframe_output_dir\n",
    ")"
   ]
  },
  {
   "cell_type": "code",
   "execution_count": 5,
   "metadata": {},
   "outputs": [
    {
     "name": "stdout",
     "output_type": "stream",
     "text": [
      "\n",
      "----------------\n",
      "Starting to process 17 videos\n",
      "----------------\n",
      "\n"
     ]
    },
    {
     "name": "stderr",
     "output_type": "stream",
     "text": [
      "\n",
      "Overall Progress:   0%|          | 0/17 [00:00<?, ?video/s]"
     ]
    },
    {
     "name": "stdout",
     "output_type": "stream",
     "text": [
      "\n",
      "Processing: ads_game_vid_sample_1\\video\\51853832643\n",
      "----------------\n"
     ]
    },
    {
     "name": "stderr",
     "output_type": "stream",
     "text": [
      "Dectecting shots: 22batch [00:23,  1.07s/batch]\n",
      "\n",
      "Overall Progress:   6%|▌         | 1/17 [00:32<08:32, 32.02s/video]"
     ]
    },
    {
     "name": "stdout",
     "output_type": "stream",
     "text": [
      "Finished processing: ads_game_vid_sample_1\\video\\51853832643\n",
      "----------------\n",
      "\n",
      "\n",
      "Processing: ads_game_vid_sample_1\\video\\51853848543\n",
      "----------------\n"
     ]
    },
    {
     "name": "stderr",
     "output_type": "stream",
     "text": [
      "Dectecting shots: 33batch [00:40,  1.24s/batch]\n",
      "\n",
      "Overall Progress:  12%|█▏        | 2/17 [01:25<11:09, 44.63s/video]"
     ]
    },
    {
     "name": "stdout",
     "output_type": "stream",
     "text": [
      "Finished processing: ads_game_vid_sample_1\\video\\51853848543\n",
      "----------------\n",
      "\n",
      "\n",
      "Processing: ads_game_vid_sample_1\\video\\51856514703\n",
      "----------------\n"
     ]
    },
    {
     "name": "stderr",
     "output_type": "stream",
     "text": [
      "Dectecting shots: 18batch [00:18,  1.05s/batch]\n",
      "\n",
      "Overall Progress:  18%|█▊        | 3/17 [01:55<08:52, 38.01s/video]"
     ]
    },
    {
     "name": "stdout",
     "output_type": "stream",
     "text": [
      "Finished processing: ads_game_vid_sample_1\\video\\51856514703\n",
      "----------------\n",
      "\n",
      "\n",
      "Processing: ads_game_vid_sample_1\\video\\51863405337\n",
      "----------------\n"
     ]
    },
    {
     "name": "stderr",
     "output_type": "stream",
     "text": [
      "Dectecting shots: 9batch [00:09,  1.06s/batch]\n",
      "\n",
      "Overall Progress:  24%|██▎       | 4/17 [02:08<06:07, 28.24s/video]"
     ]
    },
    {
     "name": "stdout",
     "output_type": "stream",
     "text": [
      "Finished processing: ads_game_vid_sample_1\\video\\51863405337\n",
      "----------------\n",
      "\n",
      "\n",
      "Processing: ads_game_vid_sample_1\\video\\51864484769\n",
      "----------------\n"
     ]
    },
    {
     "name": "stderr",
     "output_type": "stream",
     "text": [
      "Dectecting shots: 15batch [00:16,  1.12s/batch]\n",
      "\n",
      "Overall Progress:  29%|██▉       | 5/17 [02:33<05:25, 27.09s/video]"
     ]
    },
    {
     "name": "stdout",
     "output_type": "stream",
     "text": [
      "Finished processing: ads_game_vid_sample_1\\video\\51864484769\n",
      "----------------\n",
      "\n",
      "\n",
      "Processing: ads_game_vid_sample_2\\video\\52655310968\n",
      "----------------\n"
     ]
    },
    {
     "name": "stderr",
     "output_type": "stream",
     "text": [
      "Dectecting shots: 13batch [00:16,  1.27s/batch]\n",
      "\n",
      "Overall Progress:  35%|███▌      | 6/17 [02:54<04:33, 24.89s/video]"
     ]
    },
    {
     "name": "stdout",
     "output_type": "stream",
     "text": [
      "Finished processing: ads_game_vid_sample_2\\video\\52655310968\n",
      "----------------\n",
      "\n",
      "\n",
      "Processing: ads_game_vid_sample_2\\video\\52659068467\n",
      "----------------\n"
     ]
    },
    {
     "name": "stderr",
     "output_type": "stream",
     "text": [
      "Dectecting shots: 29batch [00:32,  1.11s/batch]\n",
      "\n",
      "Overall Progress:  41%|████      | 7/17 [03:45<05:34, 33.48s/video]"
     ]
    },
    {
     "name": "stdout",
     "output_type": "stream",
     "text": [
      "Finished processing: ads_game_vid_sample_2\\video\\52659068467\n",
      "----------------\n",
      "\n",
      "\n",
      "Processing: ads_game_vid_sample_2\\video\\52660362549\n",
      "----------------\n"
     ]
    },
    {
     "name": "stderr",
     "output_type": "stream",
     "text": [
      "Dectecting shots: 16batch [00:21,  1.33s/batch]\n",
      "\n",
      "Overall Progress:  47%|████▋     | 8/17 [04:12<04:41, 31.29s/video]"
     ]
    },
    {
     "name": "stdout",
     "output_type": "stream",
     "text": [
      "Finished processing: ads_game_vid_sample_2\\video\\52660362549\n",
      "----------------\n",
      "\n",
      "\n",
      "Processing: ads_game_vid_sample_2\\video\\52660780872\n",
      "----------------\n"
     ]
    },
    {
     "name": "stderr",
     "output_type": "stream",
     "text": [
      "Dectecting shots: 13batch [00:16,  1.28s/batch]\n",
      "\n",
      "Overall Progress:  53%|█████▎    | 9/17 [04:36<03:51, 28.94s/video]"
     ]
    },
    {
     "name": "stdout",
     "output_type": "stream",
     "text": [
      "Finished processing: ads_game_vid_sample_2\\video\\52660780872\n",
      "----------------\n",
      "\n",
      "\n",
      "Processing: ads_game_vid_sample_2\\video\\52661586331\n",
      "----------------\n"
     ]
    },
    {
     "name": "stderr",
     "output_type": "stream",
     "text": [
      "Dectecting shots: 18batch [00:22,  1.27s/batch]\n",
      "\n",
      "Overall Progress:  59%|█████▉    | 10/17 [05:03<03:19, 28.54s/video]"
     ]
    },
    {
     "name": "stdout",
     "output_type": "stream",
     "text": [
      "Finished processing: ads_game_vid_sample_2\\video\\52661586331\n",
      "----------------\n",
      "\n",
      "\n",
      "Processing: ads_game_vid_sample_2\\video\\52663756053\n",
      "----------------\n"
     ]
    },
    {
     "name": "stderr",
     "output_type": "stream",
     "text": [
      "Dectecting shots: 13batch [00:14,  1.13s/batch]\n",
      "\n",
      "Overall Progress:  65%|██████▍   | 11/17 [05:23<02:35, 25.88s/video]"
     ]
    },
    {
     "name": "stdout",
     "output_type": "stream",
     "text": [
      "Finished processing: ads_game_vid_sample_2\\video\\52663756053\n",
      "----------------\n",
      "\n",
      "\n",
      "Processing: ads_game_vid_sample_3\\video\\52484229807\n",
      "----------------\n"
     ]
    },
    {
     "name": "stderr",
     "output_type": "stream",
     "text": [
      "Dectecting shots: 27batch [00:35,  1.33s/batch]\n",
      "\n",
      "Overall Progress:  71%|███████   | 12/17 [06:12<02:45, 33.04s/video]"
     ]
    },
    {
     "name": "stdout",
     "output_type": "stream",
     "text": [
      "Finished processing: ads_game_vid_sample_3\\video\\52484229807\n",
      "----------------\n",
      "\n",
      "\n",
      "Processing: ads_game_vid_sample_3\\video\\52484297060\n",
      "----------------\n"
     ]
    },
    {
     "name": "stderr",
     "output_type": "stream",
     "text": [
      "Dectecting shots: 21batch [00:25,  1.22s/batch]\n",
      "\n",
      "Overall Progress:  76%|███████▋  | 13/17 [06:48<02:15, 33.88s/video]"
     ]
    },
    {
     "name": "stdout",
     "output_type": "stream",
     "text": [
      "Finished processing: ads_game_vid_sample_3\\video\\52484297060\n",
      "----------------\n",
      "\n",
      "\n",
      "Processing: ads_game_vid_sample_3\\video\\52491346857\n",
      "----------------\n"
     ]
    },
    {
     "name": "stderr",
     "output_type": "stream",
     "text": [
      "Dectecting shots: 18batch [00:23,  1.31s/batch]\n",
      "\n",
      "Overall Progress:  82%|████████▏ | 14/17 [07:17<01:37, 32.45s/video]"
     ]
    },
    {
     "name": "stdout",
     "output_type": "stream",
     "text": [
      "Finished processing: ads_game_vid_sample_3\\video\\52491346857\n",
      "----------------\n",
      "\n",
      "\n",
      "Processing: ads_game_vid_sample_3\\video\\52522495770\n",
      "----------------\n"
     ]
    },
    {
     "name": "stderr",
     "output_type": "stream",
     "text": [
      "Dectecting shots: 27batch [00:36,  1.34s/batch]\n",
      "\n",
      "Overall Progress:  88%|████████▊ | 15/17 [08:00<01:11, 35.54s/video]"
     ]
    },
    {
     "name": "stdout",
     "output_type": "stream",
     "text": [
      "Finished processing: ads_game_vid_sample_3\\video\\52522495770\n",
      "----------------\n",
      "\n",
      "\n",
      "Processing: ads_game_vid_sample_3\\video\\52522500717\n",
      "----------------\n"
     ]
    },
    {
     "name": "stderr",
     "output_type": "stream",
     "text": [
      "Dectecting shots: 26batch [00:36,  1.39s/batch]\n",
      "\n",
      "Overall Progress:  94%|█████████▍| 16/17 [08:49<00:39, 39.58s/video]"
     ]
    },
    {
     "name": "stdout",
     "output_type": "stream",
     "text": [
      "Finished processing: ads_game_vid_sample_3\\video\\52522500717\n",
      "----------------\n",
      "\n",
      "\n",
      "Processing: ads_game_vid_sample_3\\video\\52526356293\n",
      "----------------\n"
     ]
    },
    {
     "name": "stderr",
     "output_type": "stream",
     "text": [
      "Dectecting shots: 21batch [00:27,  1.32s/batch]\n",
      "\n",
      "Overall Progress: 100%|██████████| 17/17 [09:21<00:00, 37.37s/video]\n",
      "Overall Progress: 100%|██████████| 17/17 [09:21<00:00, 33.05s/video]"
     ]
    },
    {
     "name": "stdout",
     "output_type": "stream",
     "text": [
      "Finished processing: ads_game_vid_sample_3\\video\\52526356293\n",
      "----------------\n",
      "\n"
     ]
    },
    {
     "name": "stderr",
     "output_type": "stream",
     "text": [
      "\n"
     ]
    }
   ],
   "source": [
    "video_processor.process_videos(all_video_paths)"
   ]
  }
 ],
 "metadata": {
  "kernelspec": {
   "display_name": "Shot_Detection_envs",
   "language": "python",
   "name": "python3"
  },
  "language_info": {
   "codemirror_mode": {
    "name": "ipython",
    "version": 3
   },
   "file_extension": ".py",
   "mimetype": "text/x-python",
   "name": "python",
   "nbconvert_exporter": "python",
   "pygments_lexer": "ipython3",
   "version": "3.11.8"
  }
 },
 "nbformat": 4,
 "nbformat_minor": 2
}
