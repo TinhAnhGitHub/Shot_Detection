{
 "cells": [
  {
   "cell_type": "code",
   "execution_count": 5,
   "metadata": {},
   "outputs": [],
   "source": [
    "from process_video import VideoProcessor"
   ]
  },
  {
   "cell_type": "code",
   "execution_count": 6,
   "metadata": {},
   "outputs": [],
   "source": [
    "####### SETTING ########\n",
    "pretrained_model_weights_path = \"./AutoShot/model_weight/ckpt_0_200_0.pth\"\n",
    "keyframe_output_dir = \"./output_sample\"\n",
    "inpur_dir = \"./input_sample\""
   ]
  },
  {
   "cell_type": "code",
   "execution_count": 7,
   "metadata": {},
   "outputs": [
    {
     "name": "stdout",
     "output_type": "stream",
     "text": [
      "Loading the pretrained model from ./AutoShot/model_weight/ckpt_0_200_0.pth\n",
      "Current model has 90 params, Updating 90 params\n"
     ]
    }
   ],
   "source": [
    "video_processor = VideoProcessor(\n",
    "    pretrained_model_weights_path,\n",
    "    keyframe_output_dir,\n",
    ")"
   ]
  },
  {
   "cell_type": "code",
   "execution_count": 8,
   "metadata": {},
   "outputs": [
    {
     "name": "stdout",
     "output_type": "stream",
     "text": [
      "\n",
      "----------------\n",
      "Starting to process 6 videos\n",
      "----------------\n",
      "\n"
     ]
    },
    {
     "name": "stderr",
     "output_type": "stream",
     "text": [
      "Overall Progress:   0%|          | 0/6 [00:00<?, ?video/s]"
     ]
    },
    {
     "name": "stdout",
     "output_type": "stream",
     "text": [
      "\n",
      "Processing: ads_game_vid_sample_2\\video\\52655310968.mp4\n",
      "---------------- \n"
     ]
    },
    {
     "name": "stderr",
     "output_type": "stream",
     "text": [
      "Dectecting shots: 13batch [00:33,  2.55s/batch]\n"
     ]
    },
    {
     "name": "stdout",
     "output_type": "stream",
     "text": [
      "Detected 9 scenes in ads_game_vid_sample_2\\video\\52655310968.mp4\n"
     ]
    },
    {
     "name": "stderr",
     "output_type": "stream",
     "text": [
      "Overall Progress:  17%|█▋        | 1/6 [00:37<03:06, 37.34s/video]"
     ]
    },
    {
     "name": "stdout",
     "output_type": "stream",
     "text": [
      "Finished extracting keyframes for ads_game_vid_sample_2\\video\\52655310968.mp4\n",
      "Keyframes saved in: ./output_sample\\ads_game_vid_sample_2\\video\n",
      "----------------\n",
      "\n",
      "\n",
      "Processing: ads_game_vid_sample_2\\video\\52659068467.mp4\n",
      "---------------- \n"
     ]
    },
    {
     "name": "stderr",
     "output_type": "stream",
     "text": [
      "Dectecting shots: 29batch [01:17,  2.67s/batch]\n"
     ]
    },
    {
     "name": "stdout",
     "output_type": "stream",
     "text": [
      "Detected 16 scenes in ads_game_vid_sample_2\\video\\52659068467.mp4\n"
     ]
    },
    {
     "name": "stderr",
     "output_type": "stream",
     "text": [
      "Overall Progress:  33%|███▎      | 2/6 [02:12<04:46, 71.55s/video]"
     ]
    },
    {
     "name": "stdout",
     "output_type": "stream",
     "text": [
      "Finished extracting keyframes for ads_game_vid_sample_2\\video\\52659068467.mp4\n",
      "Keyframes saved in: ./output_sample\\ads_game_vid_sample_2\\video\n",
      "----------------\n",
      "\n",
      "\n",
      "Processing: ads_game_vid_sample_2\\video\\52660362549.mp4\n",
      "---------------- \n"
     ]
    },
    {
     "name": "stderr",
     "output_type": "stream",
     "text": [
      "Dectecting shots: 16batch [00:42,  2.63s/batch]\n"
     ]
    },
    {
     "name": "stdout",
     "output_type": "stream",
     "text": [
      "Detected 3 scenes in ads_game_vid_sample_2\\video\\52660362549.mp4\n"
     ]
    },
    {
     "name": "stderr",
     "output_type": "stream",
     "text": [
      "Overall Progress:  50%|█████     | 3/6 [03:00<03:01, 60.50s/video]"
     ]
    },
    {
     "name": "stdout",
     "output_type": "stream",
     "text": [
      "Finished extracting keyframes for ads_game_vid_sample_2\\video\\52660362549.mp4\n",
      "Keyframes saved in: ./output_sample\\ads_game_vid_sample_2\\video\n",
      "----------------\n",
      "\n",
      "\n",
      "Processing: ads_game_vid_sample_2\\video\\52660780872.mp4\n",
      "---------------- \n"
     ]
    },
    {
     "name": "stderr",
     "output_type": "stream",
     "text": [
      "Dectecting shots: 13batch [00:29,  2.30s/batch]\n"
     ]
    },
    {
     "name": "stdout",
     "output_type": "stream",
     "text": [
      "Detected 5 scenes in ads_game_vid_sample_2\\video\\52660780872.mp4\n"
     ]
    },
    {
     "name": "stderr",
     "output_type": "stream",
     "text": [
      "Overall Progress:  67%|██████▋   | 4/6 [03:35<01:40, 50.40s/video]"
     ]
    },
    {
     "name": "stdout",
     "output_type": "stream",
     "text": [
      "Finished extracting keyframes for ads_game_vid_sample_2\\video\\52660780872.mp4\n",
      "Keyframes saved in: ./output_sample\\ads_game_vid_sample_2\\video\n",
      "----------------\n",
      "\n",
      "\n",
      "Processing: ads_game_vid_sample_2\\video\\52661586331.mp4\n",
      "---------------- \n"
     ]
    },
    {
     "name": "stderr",
     "output_type": "stream",
     "text": [
      "Dectecting shots: 18batch [00:41,  2.30s/batch]\n"
     ]
    },
    {
     "name": "stdout",
     "output_type": "stream",
     "text": [
      "Detected 6 scenes in ads_game_vid_sample_2\\video\\52661586331.mp4\n"
     ]
    },
    {
     "name": "stderr",
     "output_type": "stream",
     "text": [
      "Overall Progress:  83%|████████▎ | 5/6 [04:21<00:48, 48.80s/video]"
     ]
    },
    {
     "name": "stdout",
     "output_type": "stream",
     "text": [
      "Finished extracting keyframes for ads_game_vid_sample_2\\video\\52661586331.mp4\n",
      "Keyframes saved in: ./output_sample\\ads_game_vid_sample_2\\video\n",
      "----------------\n",
      "\n",
      "\n",
      "Processing: ads_game_vid_sample_2\\video\\52663756053.mp4\n",
      "---------------- \n"
     ]
    },
    {
     "name": "stderr",
     "output_type": "stream",
     "text": [
      "Dectecting shots: 13batch [00:30,  2.35s/batch]\n"
     ]
    },
    {
     "name": "stdout",
     "output_type": "stream",
     "text": [
      "Detected 6 scenes in ads_game_vid_sample_2\\video\\52663756053.mp4\n"
     ]
    },
    {
     "name": "stderr",
     "output_type": "stream",
     "text": [
      "Overall Progress: 100%|██████████| 6/6 [04:56<00:00, 49.42s/video]"
     ]
    },
    {
     "name": "stdout",
     "output_type": "stream",
     "text": [
      "Finished extracting keyframes for ads_game_vid_sample_2\\video\\52663756053.mp4\n",
      "Keyframes saved in: ./output_sample\\ads_game_vid_sample_2\\video\n",
      "----------------\n",
      "\n"
     ]
    },
    {
     "name": "stderr",
     "output_type": "stream",
     "text": [
      "\n"
     ]
    }
   ],
   "source": [
    "video_processor.process_videos(inpur_dir)"
   ]
  }
 ],
 "metadata": {
  "kernelspec": {
   "display_name": "Shot_Detection_envs",
   "language": "python",
   "name": "python3"
  },
  "language_info": {
   "codemirror_mode": {
    "name": "ipython",
    "version": 3
   },
   "file_extension": ".py",
   "mimetype": "text/x-python",
   "name": "python",
   "nbconvert_exporter": "python",
   "pygments_lexer": "ipython3",
   "version": "3.11.8"
  }
 },
 "nbformat": 4,
 "nbformat_minor": 2
}
