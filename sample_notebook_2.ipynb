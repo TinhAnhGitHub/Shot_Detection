{
 "cells": [
  {
   "cell_type": "code",
   "execution_count": 1,
   "metadata": {},
   "outputs": [],
   "source": [
    "from process_video import VideoProcessor\n",
    "from io_setup import setup_video_path"
   ]
  },
  {
   "cell_type": "code",
   "execution_count": 2,
   "metadata": {},
   "outputs": [],
   "source": [
    "####### SETTING ########\n",
    "pretrained_model_weights_path = \"./AutoShot/model_weight/ckpt_0_200_0.pth\"\n",
    "keyframe_output_dir = \"./output_sample\"\n",
    "credentials_path =\"./static/client_secret_1075130238529-0k8ncds98l4jb46b1pm8e639haconq6s.apps.googleusercontent.com.json\"\n",
    "token_path = './static/token.pkl'\n",
    "drive_folder_id = \"1RlE39_E-bR6PYgsnxdK8UForktsZu-20\""
   ]
  },
  {
   "cell_type": "code",
   "execution_count": 3,
   "metadata": {},
   "outputs": [
    {
     "data": {
      "text/plain": [
       "{'ads_game_vid_sample_1': {'video': {'51853832643': './input_sample\\\\ads_game_vid_sample_1\\\\video\\\\51853832643.mp4',\n",
       "   '51853848543': './input_sample\\\\ads_game_vid_sample_1\\\\video\\\\51853848543.mp4',\n",
       "   '51856514703': './input_sample\\\\ads_game_vid_sample_1\\\\video\\\\51856514703.mp4',\n",
       "   '51863405337': './input_sample\\\\ads_game_vid_sample_1\\\\video\\\\51863405337.mp4',\n",
       "   '51864484769': './input_sample\\\\ads_game_vid_sample_1\\\\video\\\\51864484769.mp4'}},\n",
       " 'ads_game_vid_sample_2': {'video': {'52655310968': './input_sample\\\\ads_game_vid_sample_2\\\\video\\\\52655310968.mp4',\n",
       "   '52659068467': './input_sample\\\\ads_game_vid_sample_2\\\\video\\\\52659068467.mp4',\n",
       "   '52660362549': './input_sample\\\\ads_game_vid_sample_2\\\\video\\\\52660362549.mp4',\n",
       "   '52660780872': './input_sample\\\\ads_game_vid_sample_2\\\\video\\\\52660780872.mp4',\n",
       "   '52661586331': './input_sample\\\\ads_game_vid_sample_2\\\\video\\\\52661586331.mp4',\n",
       "   '52663756053': './input_sample\\\\ads_game_vid_sample_2\\\\video\\\\52663756053.mp4'}},\n",
       " 'ads_game_vid_sample_3': {'video': {'52484229807': './input_sample\\\\ads_game_vid_sample_3\\\\video\\\\52484229807.mp4',\n",
       "   '52484297060': './input_sample\\\\ads_game_vid_sample_3\\\\video\\\\52484297060.mp4',\n",
       "   '52491346857': './input_sample\\\\ads_game_vid_sample_3\\\\video\\\\52491346857.mp4',\n",
       "   '52522495770': './input_sample\\\\ads_game_vid_sample_3\\\\video\\\\52522495770.mp4',\n",
       "   '52522500717': './input_sample\\\\ads_game_vid_sample_3\\\\video\\\\52522500717.mp4',\n",
       "   '52526356293': './input_sample\\\\ads_game_vid_sample_3\\\\video\\\\52526356293.mp4'}}}"
      ]
     },
     "execution_count": 3,
     "metadata": {},
     "output_type": "execute_result"
    }
   ],
   "source": [
    "input_dir = \"./input_sample\"\n",
    "all_video_paths = setup_video_path(\"./input_sample\")\n",
    "all_video_paths"
   ]
  },
  {
   "cell_type": "code",
   "execution_count": 4,
   "metadata": {},
   "outputs": [
    {
     "name": "stdout",
     "output_type": "stream",
     "text": [
      "Loading the pretrained model from ./AutoShot/model_weight/ckpt_0_200_0.pth\n",
      "Current model has 90 params, Updating 90 params\n"
     ]
    }
   ],
   "source": [
    "video_processor = VideoProcessor(\n",
    "    pretrained_model_weights_path,\n",
    "    keyframe_output_dir,\n",
    "    credentials_path,\n",
    "    token_path,\n",
    "    drive_folder_id\n",
    ")"
   ]
  },
  {
   "cell_type": "code",
   "execution_count": 5,
   "metadata": {},
   "outputs": [
    {
     "name": "stdout",
     "output_type": "stream",
     "text": [
      "\n",
      "----------------\n",
      "Starting to process 17 videos\n",
      "----------------\n",
      "\n"
     ]
    },
    {
     "name": "stderr",
     "output_type": "stream",
     "text": [
      "\n",
      "Overall Progress:   0%|          | 0/17 [00:00<?, ?video/s]"
     ]
    },
    {
     "name": "stdout",
     "output_type": "stream",
     "text": [
      "\n",
      "Processing: ads_game_vid_sample_1\\video\\51853832643\n",
      "----------------\n"
     ]
    },
    {
     "name": "stderr",
     "output_type": "stream",
     "text": [
      "Dectecting shots: 22batch [00:28,  1.27s/batch]\n"
     ]
    },
    {
     "name": "stdout",
     "output_type": "stream",
     "text": [
      "Detected 17 scenes in ads_game_vid_sample_1\\video\\51853832643\n",
      "Finished extracting keyframes for ads_game_vid_sample_1\\video\\51853832643\n"
     ]
    },
    {
     "name": "stderr",
     "output_type": "stream",
     "text": [
      "\n",
      "Overall Progress:   6%|▌         | 1/17 [00:42<11:21, 42.57s/video]"
     ]
    },
    {
     "name": "stdout",
     "output_type": "stream",
     "text": [
      "Uploaded keyframes for ads_game_vid_sample_1\\video\\51853832643 to Google Drive\n",
      "----------------\n",
      "\n",
      "\n",
      "Processing: ads_game_vid_sample_1\\video\\51853848543\n",
      "----------------\n"
     ]
    },
    {
     "name": "stderr",
     "output_type": "stream",
     "text": [
      "Dectecting shots: 33batch [00:45,  1.39s/batch]\n"
     ]
    },
    {
     "name": "stdout",
     "output_type": "stream",
     "text": [
      "Detected 19 scenes in ads_game_vid_sample_1\\video\\51853848543\n",
      "Finished extracting keyframes for ads_game_vid_sample_1\\video\\51853848543\n"
     ]
    },
    {
     "name": "stderr",
     "output_type": "stream",
     "text": [
      "\n",
      "Overall Progress:  12%|█▏        | 2/17 [01:48<14:06, 56.42s/video]"
     ]
    },
    {
     "name": "stdout",
     "output_type": "stream",
     "text": [
      "Uploaded keyframes for ads_game_vid_sample_1\\video\\51853848543 to Google Drive\n",
      "----------------\n",
      "\n",
      "\n",
      "Processing: ads_game_vid_sample_1\\video\\51856514703\n",
      "----------------\n"
     ]
    },
    {
     "name": "stderr",
     "output_type": "stream",
     "text": [
      "Dectecting shots: 18batch [00:23,  1.31s/batch]\n"
     ]
    },
    {
     "name": "stdout",
     "output_type": "stream",
     "text": [
      "Detected 9 scenes in ads_game_vid_sample_1\\video\\51856514703\n",
      "Finished extracting keyframes for ads_game_vid_sample_1\\video\\51856514703\n"
     ]
    },
    {
     "name": "stderr",
     "output_type": "stream",
     "text": [
      "\n",
      "Overall Progress:  18%|█▊        | 3/17 [02:27<11:15, 48.27s/video]"
     ]
    },
    {
     "name": "stdout",
     "output_type": "stream",
     "text": [
      "Uploaded keyframes for ads_game_vid_sample_1\\video\\51856514703 to Google Drive\n",
      "----------------\n",
      "\n",
      "\n",
      "Processing: ads_game_vid_sample_1\\video\\51863405337\n",
      "----------------\n"
     ]
    },
    {
     "name": "stderr",
     "output_type": "stream",
     "text": [
      "Dectecting shots: 9batch [00:09,  1.07s/batch]\n"
     ]
    },
    {
     "name": "stdout",
     "output_type": "stream",
     "text": [
      "Detected 5 scenes in ads_game_vid_sample_1\\video\\51863405337\n",
      "Finished extracting keyframes for ads_game_vid_sample_1\\video\\51863405337\n"
     ]
    },
    {
     "name": "stderr",
     "output_type": "stream",
     "text": [
      "\n",
      "Overall Progress:  24%|██▎       | 4/17 [02:42<07:37, 35.18s/video]"
     ]
    },
    {
     "name": "stdout",
     "output_type": "stream",
     "text": [
      "Uploaded keyframes for ads_game_vid_sample_1\\video\\51863405337 to Google Drive\n",
      "----------------\n",
      "\n",
      "\n",
      "Processing: ads_game_vid_sample_1\\video\\51864484769\n",
      "----------------\n"
     ]
    },
    {
     "name": "stderr",
     "output_type": "stream",
     "text": [
      "Dectecting shots: 15batch [00:18,  1.21s/batch]\n"
     ]
    },
    {
     "name": "stdout",
     "output_type": "stream",
     "text": [
      "Detected 11 scenes in ads_game_vid_sample_1\\video\\51864484769\n",
      "Finished extracting keyframes for ads_game_vid_sample_1\\video\\51864484769\n"
     ]
    },
    {
     "name": "stderr",
     "output_type": "stream",
     "text": [
      "\n",
      "Overall Progress:  29%|██▉       | 5/17 [03:09<06:26, 32.19s/video]"
     ]
    },
    {
     "name": "stdout",
     "output_type": "stream",
     "text": [
      "Uploaded keyframes for ads_game_vid_sample_1\\video\\51864484769 to Google Drive\n",
      "----------------\n",
      "\n",
      "\n",
      "Processing: ads_game_vid_sample_2\\video\\52655310968\n",
      "----------------\n"
     ]
    },
    {
     "name": "stderr",
     "output_type": "stream",
     "text": [
      "Dectecting shots: 13batch [00:14,  1.12s/batch]\n"
     ]
    },
    {
     "name": "stdout",
     "output_type": "stream",
     "text": [
      "Detected 9 scenes in ads_game_vid_sample_2\\video\\52655310968\n",
      "Finished extracting keyframes for ads_game_vid_sample_2\\video\\52655310968\n"
     ]
    },
    {
     "name": "stderr",
     "output_type": "stream",
     "text": [
      "\n",
      "Overall Progress:  35%|███▌      | 6/17 [03:30<05:13, 28.47s/video]"
     ]
    },
    {
     "name": "stdout",
     "output_type": "stream",
     "text": [
      "Uploaded keyframes for ads_game_vid_sample_2\\video\\52655310968 to Google Drive\n",
      "----------------\n",
      "\n",
      "\n",
      "Processing: ads_game_vid_sample_2\\video\\52659068467\n",
      "----------------\n"
     ]
    },
    {
     "name": "stderr",
     "output_type": "stream",
     "text": [
      "Dectecting shots: 29batch [00:33,  1.15s/batch]\n"
     ]
    },
    {
     "name": "stdout",
     "output_type": "stream",
     "text": [
      "Detected 16 scenes in ads_game_vid_sample_2\\video\\52659068467\n",
      "Finished extracting keyframes for ads_game_vid_sample_2\\video\\52659068467\n"
     ]
    },
    {
     "name": "stderr",
     "output_type": "stream",
     "text": [
      "\n",
      "Overall Progress:  41%|████      | 7/17 [04:21<05:57, 35.76s/video]"
     ]
    },
    {
     "name": "stdout",
     "output_type": "stream",
     "text": [
      "Uploaded keyframes for ads_game_vid_sample_2\\video\\52659068467 to Google Drive\n",
      "----------------\n",
      "\n",
      "\n",
      "Processing: ads_game_vid_sample_2\\video\\52660362549\n",
      "----------------\n"
     ]
    },
    {
     "name": "stderr",
     "output_type": "stream",
     "text": [
      "Dectecting shots: 16batch [00:18,  1.16s/batch]\n"
     ]
    },
    {
     "name": "stdout",
     "output_type": "stream",
     "text": [
      "Detected 3 scenes in ads_game_vid_sample_2\\video\\52660362549\n",
      "Finished extracting keyframes for ads_game_vid_sample_2\\video\\52660362549\n"
     ]
    },
    {
     "name": "stderr",
     "output_type": "stream",
     "text": [
      "\n",
      "Overall Progress:  47%|████▋     | 8/17 [04:46<04:50, 32.30s/video]"
     ]
    },
    {
     "name": "stdout",
     "output_type": "stream",
     "text": [
      "Uploaded keyframes for ads_game_vid_sample_2\\video\\52660362549 to Google Drive\n",
      "----------------\n",
      "\n",
      "\n",
      "Processing: ads_game_vid_sample_2\\video\\52660780872\n",
      "----------------\n"
     ]
    },
    {
     "name": "stderr",
     "output_type": "stream",
     "text": [
      "Dectecting shots: 13batch [00:14,  1.10s/batch]\n"
     ]
    },
    {
     "name": "stdout",
     "output_type": "stream",
     "text": [
      "Detected 5 scenes in ads_game_vid_sample_2\\video\\52660780872\n",
      "Finished extracting keyframes for ads_game_vid_sample_2\\video\\52660780872\n"
     ]
    },
    {
     "name": "stderr",
     "output_type": "stream",
     "text": [
      "\n",
      "Overall Progress:  53%|█████▎    | 9/17 [05:07<03:49, 28.73s/video]"
     ]
    },
    {
     "name": "stdout",
     "output_type": "stream",
     "text": [
      "Uploaded keyframes for ads_game_vid_sample_2\\video\\52660780872 to Google Drive\n",
      "----------------\n",
      "\n",
      "\n",
      "Processing: ads_game_vid_sample_2\\video\\52661586331\n",
      "----------------\n"
     ]
    },
    {
     "name": "stderr",
     "output_type": "stream",
     "text": [
      "Dectecting shots: 18batch [00:19,  1.10s/batch]\n"
     ]
    },
    {
     "name": "stdout",
     "output_type": "stream",
     "text": [
      "Detected 6 scenes in ads_game_vid_sample_2\\video\\52661586331\n",
      "Finished extracting keyframes for ads_game_vid_sample_2\\video\\52661586331\n"
     ]
    },
    {
     "name": "stderr",
     "output_type": "stream",
     "text": [
      "\n",
      "Overall Progress:  59%|█████▉    | 10/17 [05:32<03:14, 27.84s/video]"
     ]
    },
    {
     "name": "stdout",
     "output_type": "stream",
     "text": [
      "Uploaded keyframes for ads_game_vid_sample_2\\video\\52661586331 to Google Drive\n",
      "----------------\n",
      "\n",
      "\n",
      "Processing: ads_game_vid_sample_2\\video\\52663756053\n",
      "----------------\n"
     ]
    },
    {
     "name": "stderr",
     "output_type": "stream",
     "text": [
      "Dectecting shots: 13batch [00:14,  1.12s/batch]\n"
     ]
    },
    {
     "name": "stdout",
     "output_type": "stream",
     "text": [
      "Detected 6 scenes in ads_game_vid_sample_2\\video\\52663756053\n",
      "Finished extracting keyframes for ads_game_vid_sample_2\\video\\52663756053\n"
     ]
    },
    {
     "name": "stderr",
     "output_type": "stream",
     "text": [
      "\n",
      "Overall Progress:  65%|██████▍   | 11/17 [05:53<02:34, 25.69s/video]"
     ]
    },
    {
     "name": "stdout",
     "output_type": "stream",
     "text": [
      "Uploaded keyframes for ads_game_vid_sample_2\\video\\52663756053 to Google Drive\n",
      "----------------\n",
      "\n",
      "\n",
      "Processing: ads_game_vid_sample_3\\video\\52484229807\n",
      "----------------\n"
     ]
    },
    {
     "name": "stderr",
     "output_type": "stream",
     "text": [
      "Dectecting shots: 27batch [00:30,  1.13s/batch]\n"
     ]
    },
    {
     "name": "stdout",
     "output_type": "stream",
     "text": [
      "Detected 18 scenes in ads_game_vid_sample_3\\video\\52484229807\n",
      "Finished extracting keyframes for ads_game_vid_sample_3\\video\\52484229807\n"
     ]
    },
    {
     "name": "stderr",
     "output_type": "stream",
     "text": [
      "\n",
      "Overall Progress:  71%|███████   | 12/17 [06:38<02:37, 31.55s/video]"
     ]
    },
    {
     "name": "stdout",
     "output_type": "stream",
     "text": [
      "Uploaded keyframes for ads_game_vid_sample_3\\video\\52484229807 to Google Drive\n",
      "----------------\n",
      "\n",
      "\n",
      "Processing: ads_game_vid_sample_3\\video\\52484297060\n",
      "----------------\n"
     ]
    },
    {
     "name": "stderr",
     "output_type": "stream",
     "text": [
      "Dectecting shots: 21batch [00:24,  1.16s/batch]\n"
     ]
    },
    {
     "name": "stdout",
     "output_type": "stream",
     "text": [
      "Detected 16 scenes in ads_game_vid_sample_3\\video\\52484297060\n",
      "Finished extracting keyframes for ads_game_vid_sample_3\\video\\52484297060\n"
     ]
    },
    {
     "name": "stderr",
     "output_type": "stream",
     "text": [
      "\n",
      "Overall Progress:  76%|███████▋  | 13/17 [07:13<02:10, 32.60s/video]"
     ]
    },
    {
     "name": "stdout",
     "output_type": "stream",
     "text": [
      "Uploaded keyframes for ads_game_vid_sample_3\\video\\52484297060 to Google Drive\n",
      "----------------\n",
      "\n",
      "\n",
      "Processing: ads_game_vid_sample_3\\video\\52491346857\n",
      "----------------\n"
     ]
    },
    {
     "name": "stderr",
     "output_type": "stream",
     "text": [
      "Dectecting shots: 18batch [00:22,  1.24s/batch]\n"
     ]
    },
    {
     "name": "stdout",
     "output_type": "stream",
     "text": [
      "Detected 6 scenes in ads_game_vid_sample_3\\video\\52491346857\n",
      "Finished extracting keyframes for ads_game_vid_sample_3\\video\\52491346857\n"
     ]
    },
    {
     "name": "stderr",
     "output_type": "stream",
     "text": [
      "\n",
      "Overall Progress:  82%|████████▏ | 14/17 [07:43<01:35, 31.84s/video]"
     ]
    },
    {
     "name": "stdout",
     "output_type": "stream",
     "text": [
      "Uploaded keyframes for ads_game_vid_sample_3\\video\\52491346857 to Google Drive\n",
      "----------------\n",
      "\n",
      "\n",
      "Processing: ads_game_vid_sample_3\\video\\52522495770\n",
      "----------------\n"
     ]
    },
    {
     "name": "stderr",
     "output_type": "stream",
     "text": [
      "Dectecting shots: 27batch [00:30,  1.14s/batch]\n"
     ]
    },
    {
     "name": "stdout",
     "output_type": "stream",
     "text": [
      "Detected 2 scenes in ads_game_vid_sample_3\\video\\52522495770\n",
      "Finished extracting keyframes for ads_game_vid_sample_3\\video\\52522495770\n"
     ]
    },
    {
     "name": "stderr",
     "output_type": "stream",
     "text": [
      "\n",
      "Overall Progress:  88%|████████▊ | 15/17 [08:21<01:07, 33.64s/video]"
     ]
    },
    {
     "name": "stdout",
     "output_type": "stream",
     "text": [
      "Uploaded keyframes for ads_game_vid_sample_3\\video\\52522495770 to Google Drive\n",
      "----------------\n",
      "\n",
      "\n",
      "Processing: ads_game_vid_sample_3\\video\\52522500717\n",
      "----------------\n"
     ]
    },
    {
     "name": "stderr",
     "output_type": "stream",
     "text": [
      "Dectecting shots: 26batch [00:28,  1.10s/batch]\n"
     ]
    },
    {
     "name": "stdout",
     "output_type": "stream",
     "text": [
      "Detected 14 scenes in ads_game_vid_sample_3\\video\\52522500717\n",
      "Finished extracting keyframes for ads_game_vid_sample_3\\video\\52522500717\n"
     ]
    },
    {
     "name": "stderr",
     "output_type": "stream",
     "text": [
      "\n",
      "Overall Progress:  94%|█████████▍| 16/17 [09:01<00:35, 35.63s/video]"
     ]
    },
    {
     "name": "stdout",
     "output_type": "stream",
     "text": [
      "Uploaded keyframes for ads_game_vid_sample_3\\video\\52522500717 to Google Drive\n",
      "----------------\n",
      "\n",
      "\n",
      "Processing: ads_game_vid_sample_3\\video\\52526356293\n",
      "----------------\n"
     ]
    },
    {
     "name": "stderr",
     "output_type": "stream",
     "text": [
      "Dectecting shots: 21batch [00:22,  1.05s/batch]\n"
     ]
    },
    {
     "name": "stdout",
     "output_type": "stream",
     "text": [
      "Detected 1 scenes in ads_game_vid_sample_3\\video\\52526356293\n",
      "Finished extracting keyframes for ads_game_vid_sample_3\\video\\52526356293\n"
     ]
    },
    {
     "name": "stderr",
     "output_type": "stream",
     "text": [
      "\n",
      "Overall Progress: 100%|██████████| 17/17 [09:28<00:00, 32.96s/video]\n",
      "Overall Progress: 100%|██████████| 17/17 [09:28<00:00, 33.45s/video]"
     ]
    },
    {
     "name": "stdout",
     "output_type": "stream",
     "text": [
      "Uploaded keyframes for ads_game_vid_sample_3\\video\\52526356293 to Google Drive\n",
      "----------------\n",
      "\n"
     ]
    },
    {
     "name": "stderr",
     "output_type": "stream",
     "text": [
      "\n"
     ]
    }
   ],
   "source": [
    "video_processor.process_videos(all_video_paths)"
   ]
  }
 ],
 "metadata": {
  "kernelspec": {
   "display_name": "Shot_Detection_envs",
   "language": "python",
   "name": "python3"
  },
  "language_info": {
   "codemirror_mode": {
    "name": "ipython",
    "version": 3
   },
   "file_extension": ".py",
   "mimetype": "text/x-python",
   "name": "python",
   "nbconvert_exporter": "python",
   "pygments_lexer": "ipython3",
   "version": "3.11.8"
  }
 },
 "nbformat": 4,
 "nbformat_minor": 2
}
